{
 "cells": [
  {
   "cell_type": "code",
   "execution_count": 2,
   "metadata": {},
   "outputs": [
    {
     "name": "stdout",
     "output_type": "stream",
     "text": [
      "Enter URL :http://data.pr4e.org/romeo.txt\n",
      "\n",
      "\n",
      "But soft what light through yonder window breaks\n",
      "It is the east and Juliet is the sun\n",
      "Arise fair sun and kill the envious moon\n",
      "Who is already sick and pale with grief\n",
      "\n",
      "\n",
      "Total no of characters:  167\n"
     ]
    }
   ],
   "source": [
    "try:\n",
    "    import urllib.request, urllib.parse, urllib.error\n",
    "    url = input(\"Enter URL :\")\n",
    "    fhand = urllib.request.urlopen(url)\n",
    "    counts = 0\n",
    "    li = []\n",
    "    for line in fhand:\n",
    "        words = line.decode()\n",
    "        li.append(words)\n",
    "        counts = counts+len(words)\n",
    "    li = \"\".join(li)\n",
    "    print(\"\\n\")\n",
    "    print(li[:3000])\n",
    "\n",
    "    print(\"\\nTotal no of characters: \", counts)\n",
    "except:\n",
    "    print(\"bad url\")\n",
    "        \n",
    "    \n",
    "        \n",
    "\n"
   ]
  },
  {
   "cell_type": "code",
   "execution_count": null,
   "metadata": {},
   "outputs": [],
   "source": []
  },
  {
   "cell_type": "code",
   "execution_count": null,
   "metadata": {},
   "outputs": [],
   "source": []
  }
 ],
 "metadata": {
  "kernelspec": {
   "display_name": "Python 3",
   "language": "python",
   "name": "python3"
  },
  "language_info": {
   "codemirror_mode": {
    "name": "ipython",
    "version": 3
   },
   "file_extension": ".py",
   "mimetype": "text/x-python",
   "name": "python",
   "nbconvert_exporter": "python",
   "pygments_lexer": "ipython3",
   "version": "3.7.3"
  }
 },
 "nbformat": 4,
 "nbformat_minor": 2
}
