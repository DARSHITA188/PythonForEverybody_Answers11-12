{
 "cells": [
  {
   "cell_type": "code",
   "execution_count": 1,
   "metadata": {
    "scrolled": false
   },
   "outputs": [
    {
     "name": "stdout",
     "output_type": "stream",
     "text": [
      "Enter filename mbox.txt\n",
      "Enter regular expression ^a\n",
      "mbox.txt  had  227  lines that matched  ^a\n"
     ]
    }
   ],
   "source": [
    "import re\n",
    "count = 0;\n",
    "file = input(\"Enter filename \")\n",
    "fhand = open(file)\n",
    "rex = input(\"Enter regular expression \")\n",
    "for line in fhand:\n",
    "    line = line.rstrip()\n",
    "    x = re.findall(rex, line)\n",
    "    if len(x) > 0:\n",
    "        count = count+1\n",
    "print(file,\" had \",count,\" lines that matched \", rex)\n"
   ]
  },
  {
   "cell_type": "code",
   "execution_count": null,
   "metadata": {},
   "outputs": [],
   "source": []
  },
  {
   "cell_type": "code",
   "execution_count": null,
   "metadata": {},
   "outputs": [],
   "source": []
  }
 ],
 "metadata": {
  "kernelspec": {
   "display_name": "Python 3",
   "language": "python",
   "name": "python3"
  },
  "language_info": {
   "codemirror_mode": {
    "name": "ipython",
    "version": 3
   },
   "file_extension": ".py",
   "mimetype": "text/x-python",
   "name": "python",
   "nbconvert_exporter": "python",
   "pygments_lexer": "ipython3",
   "version": "3.7.3"
  }
 },
 "nbformat": 4,
 "nbformat_minor": 2
}
