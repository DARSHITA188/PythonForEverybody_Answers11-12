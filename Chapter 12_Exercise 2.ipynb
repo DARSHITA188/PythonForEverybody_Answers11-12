{
 "cells": [
  {
   "cell_type": "code",
   "execution_count": 1,
   "metadata": {},
   "outputs": [
    {
     "name": "stdout",
     "output_type": "stream",
     "text": [
      "Enter a URL:\n",
      "http://data.pr4e.org/romeo.txt'\n",
      "host:  data.pr4e.org \n",
      "\n",
      "HTTP/1.1 404 Not Found\n",
      "Date: Fri, 07 Jun 2019 03:57:02 GMT\n",
      "Server: Apache/2.4.18 (Ubuntu)\n",
      "Content-Length: 287\n",
      "Connection: close\n",
      "Content-Type: text/html; charset=iso-8859-1\n",
      "\n",
      "<!DOCTYPE HTML PUBLIC \"-//IETF//DTD HTML 2.0//EN\">\n",
      "<html><head>\n",
      "<title>404 Not Found</title>\n",
      "</head><body>\n",
      "<h1>Not Found</h1>\n",
      "<p>The requested URL /romeo.txt' was not found on this server.</p>\n",
      "<hr>\n",
      "<address>Apache/2.4.18 (Ubuntu) Server at data.pr4e.org Port 80</address>\n",
      "</body></html>\n",
      "\n",
      "\n",
      "Total characters:  467\n"
     ]
    }
   ],
   "source": [
    "import socket\n",
    "count =0 \n",
    "try:\n",
    "    url = input(\"Enter a URL:\\n\")\n",
    "    for urlparts in url:\n",
    "        urlparts = url.split(\"/\")\n",
    "        host = urlparts[2]\n",
    "    print(\"host: \", host,\"\\n\")\n",
    "    mysock = socket.socket(socket.AF_INET, socket.SOCK_STREAM)\n",
    "    mysock.connect((host, 80))\n",
    "    cmd0 = \"GET {} HTTP/1.0\\r\\n\\r\\n\".format(url)\n",
    "    cmd = cmd0.encode()\n",
    "\n",
    "    message = \"\"\n",
    "    mysock.send(cmd)\n",
    "    while True:\n",
    "        data = mysock.recv(512)\n",
    "        if len(data) < 1:\n",
    "            break\n",
    "        count = count+len(data)\n",
    "        message = message + data.decode()\n",
    "    \n",
    "    if len(message)>3000:    \n",
    "        info = (message[:3000] + '..')\n",
    "        print(info)\n",
    "    else:\n",
    "        print(message)\n",
    "    print(\"\\nTotal characters: \",count)\n",
    "    mysock.close()\n",
    "except:\n",
    "    print(\"bad URL\")\n"
   ]
  },
  {
   "cell_type": "code",
   "execution_count": null,
   "metadata": {},
   "outputs": [],
   "source": []
  },
  {
   "cell_type": "code",
   "execution_count": null,
   "metadata": {},
   "outputs": [],
   "source": []
  }
 ],
 "metadata": {
  "kernelspec": {
   "display_name": "Python 3",
   "language": "python",
   "name": "python3"
  },
  "language_info": {
   "codemirror_mode": {
    "name": "ipython",
    "version": 3
   },
   "file_extension": ".py",
   "mimetype": "text/x-python",
   "name": "python",
   "nbconvert_exporter": "python",
   "pygments_lexer": "ipython3",
   "version": "3.7.3"
  }
 },
 "nbformat": 4,
 "nbformat_minor": 2
}
